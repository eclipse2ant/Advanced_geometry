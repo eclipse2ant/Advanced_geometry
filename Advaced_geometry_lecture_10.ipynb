{
  "nbformat": 4,
  "nbformat_minor": 0,
  "metadata": {
    "colab": {
      "name": "Advaced_geometry-lecture_10.ipynb",
      "provenance": [],
      "include_colab_link": true
    },
    "kernelspec": {
      "name": "python3",
      "display_name": "Python 3"
    },
    "language_info": {
      "name": "python"
    }
  },
  "cells": [
    {
      "cell_type": "markdown",
      "metadata": {
        "id": "view-in-github",
        "colab_type": "text"
      },
      "source": [
        "<a href=\"https://colab.research.google.com/github/eclipse2ant/advanced_geometry/blob/master/Advaced_geometry_lecture_10.ipynb\" target=\"_parent\"><img src=\"https://colab.research.google.com/assets/colab-badge.svg\" alt=\"Open In Colab\"/></a>"
      ]
    },
    {
      "cell_type": "markdown",
      "metadata": {
        "id": "mUnenpOA1z1v"
      },
      "source": [
        "### 2.1.5.形式群"
      ]
    },
    {
      "cell_type": "markdown",
      "metadata": {
        "id": "xpkM1wSivWi4"
      },
      "source": [
        "- 前回は$K$理論を見ました。グロタンディック群から$K(X)$ を与え、さらに分類空間とホモトピー類を使うことで、高次$K$群が定義できて、Bottの周期性定理などをつかって、周期コホモロジーとなりました。さて、位相には代数的なものがあると言いました。この場合、今のようなホモトピー論ガ使えません。しかし、Quilleは代数的$K$理論を作り、高次代数的$K$群を定義しました。またホモトピー論は、圏論化されて、モデル圏がやはり\n",
        "Quillen によって作られました、ただ、モデル圏と代数的$K$理論の関係は、勉強不足で今の所、私は知りません。"
      ]
    },
    {
      "cell_type": "markdown",
      "metadata": {
        "id": "rSfn3V3dGRpW"
      },
      "source": [
        "- さて survey.pdf の1.2において、$A(\\mathbb{C}P^{\\infty})$は、$A(*)[[t]]$に等しい、そして$A(*)$は可換環でした。　$X$上の任意の直線束$\\mathcal{L}$に対して、$\\phi:X\\longrightarrow \\mathbb{C}P^{\\infty}$ が存在して　$\\mathcal{L} \\simeq \\phi^*\\mathcal{O}(1)$, ($\\mathcal{O}(1)$ は標準束) でした。$\\phi$ is unique up to homotopy でしたね。そこで、$c_1(\\mathcal{L})=\\phi^*t \\in A(X)$ と定めると　the first Chern class in $A$-cohomology として定めます。\n"
      ]
    },
    {
      "cell_type": "markdown",
      "metadata": {
        "id": "MKm7pMn0SXXc"
      },
      "source": [
        "- 通常のコホモロジーでは、$c_1(\\mathcal{L}\\otimes \\mathcal{L}^\\prime)=c_1(\\mathcal{L})+c_1(\\mathcal{L^{\\prime}})$ です。Example 1.1 にあるように、complex $K$-theory のときは　$c_1(\\mathcal{L})=[\\mathcal{L}]-1$ です。これは　first Chern class が０の時と自明は同値ですから。従って $c_1(\\mathcal{L}\\otimes \\mathcal{L}^\\prime)$$= [\\mathcal{L}]\\cdot[\\mathcal{L^\\prime}]-1$$=(c_1(\\mathcal{L})+1)(c_1(\\mathcal{L^\\prime})+1)-1=c_1(\\mathcal{L})c_1(\\mathcal{L^\\prime})+c_1(\\mathcal{L})+c_1(\\mathcal{L^\\prime})$ となります。\n"
      ]
    },
    {
      "cell_type": "markdown",
      "metadata": {
        "id": "Sjl8RaD_hAQl"
      },
      "source": [
        ""
      ]
    }
  ]
}