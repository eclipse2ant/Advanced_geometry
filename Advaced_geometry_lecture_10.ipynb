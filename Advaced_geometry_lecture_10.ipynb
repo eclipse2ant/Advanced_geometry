{
  "nbformat": 4,
  "nbformat_minor": 0,
  "metadata": {
    "colab": {
      "name": "Advaced_geometry-lecture_10.ipynb",
      "provenance": [],
      "include_colab_link": true
    },
    "kernelspec": {
      "name": "python3",
      "display_name": "Python 3"
    },
    "language_info": {
      "name": "python"
    }
  },
  "cells": [
    {
      "cell_type": "markdown",
      "metadata": {
        "id": "view-in-github",
        "colab_type": "text"
      },
      "source": [
        "<a href=\"https://colab.research.google.com/github/eclipse2ant/advanced_geometry/blob/master/Advaced_geometry_lecture_10.ipynb\" target=\"_parent\"><img src=\"https://colab.research.google.com/assets/colab-badge.svg\" alt=\"Open In Colab\"/></a>"
      ]
    },
    {
      "cell_type": "markdown",
      "metadata": {
        "id": "mUnenpOA1z1v"
      },
      "source": [
        "### 2.1.5.形式群"
      ]
    },
    {
      "cell_type": "markdown",
      "metadata": {
        "id": "xpkM1wSivWi4"
      },
      "source": [
        "- 前回は$K$理論を見ました。グロタンディック群から$K(X)$ を与え、さらに分類空間とホモトピー類を使うことで、高次$K$群が定義できて、Bottの周期性定理などをつかって、周期コホモロジーとなりました。"
      ]
    },
    {
      "cell_type": "markdown",
      "metadata": {
        "id": "j5BboAGIWMq8"
      },
      "source": [
        "- $\\widetilde{K}^{-q}(X)=[S^q\\wedge X,\\ BU \\times \\mathbb{Z} ]_*$ で定義すると（$[\\ ,\\ ]_*$　は基点を保つホモトピー類の集合)、簡約$K$コホモロジーが定義される。ここで。survey.pdf のp.2  の同型$K^n(X) \\longrightarrow K^{n-2}(X)$ がBottの周期性定理から従う。survey.pdf もコホモロジー$A$ はこの$K$を一般化したいために定義されている。実際、これから形式群を考え、そこから具体例として、Elliptic cohomology(楕円コホモロジー)を考えていく。\n"
      ]
    }
  ]
}