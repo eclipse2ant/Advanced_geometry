{
  "nbformat": 4,
  "nbformat_minor": 0,
  "metadata": {
    "colab": {
      "name": "Advaced_geometry-lecture_3.ipynb",
      "provenance": [],
      "toc_visible": true,
      "authorship_tag": "ABX9TyN1Y61hgjXlYcvN0tsJBZ0M",
      "include_colab_link": true
    },
    "kernelspec": {
      "name": "python3",
      "display_name": "Python 3"
    },
    "language_info": {
      "name": "python"
    }
  },
  "cells": [
    {
      "cell_type": "markdown",
      "metadata": {
        "id": "view-in-github",
        "colab_type": "text"
      },
      "source": [
        "<a href=\"https://colab.research.google.com/github/eclipse2ant/advanced_geometry/blob/master/Advaced_geometry_lecture_3.ipynb\" target=\"_parent\"><img src=\"https://colab.research.google.com/assets/colab-badge.svg\" alt=\"Open In Colab\"/></a>"
      ]
    },
    {
      "cell_type": "markdown",
      "metadata": {
        "id": "WQEEp8XsvGLu"
      },
      "source": [
        "# 1.2.層"
      ]
    },
    {
      "cell_type": "markdown",
      "metadata": {
        "id": "xpkM1wSivWi4"
      },
      "source": [
        "- 層の概念は関数の概念をカテゴリー化したものと言えるでしょう。スキームを定義する際に必要なのでここで軽く触れましょう。　Sheaf.pdfに必要なことをまとめておきます。\n"
      ]
    },
    {
      "cell_type": "markdown",
      "metadata": {
        "id": "suwmi0cdVhhh"
      },
      "source": [
        ""
      ]
    }
  ]
}