{
  "nbformat": 4,
  "nbformat_minor": 0,
  "metadata": {
    "colab": {
      "name": "Advaced_geometry-lecture_9.ipynb",
      "provenance": [],
      "include_colab_link": true
    },
    "kernelspec": {
      "name": "python3",
      "display_name": "Python 3"
    },
    "language_info": {
      "name": "python"
    }
  },
  "cells": [
    {
      "cell_type": "markdown",
      "metadata": {
        "id": "view-in-github",
        "colab_type": "text"
      },
      "source": [
        "<a href=\"https://colab.research.google.com/github/eclipse2ant/advanced_geometry/blob/master/Advaced_geometry_lecture_9.ipynb\" target=\"_parent\"><img src=\"https://colab.research.google.com/assets/colab-badge.svg\" alt=\"Open In Colab\"/></a>"
      ]
    },
    {
      "cell_type": "markdown",
      "metadata": {
        "id": "mUnenpOA1z1v"
      },
      "source": [
        "### 2.1.4 複素$K$理論"
      ]
    },
    {
      "cell_type": "markdown",
      "metadata": {
        "id": "xpkM1wSivWi4"
      },
      "source": [
        "- 今回は前前回直線束の話をまず一般の$n$次元に拡張します。$n$次元線形部分空間の集まりを考えるのですから。$k+n$次元の線形空間の中の$n$次元線形部分空間の集合は$G_n(k+n)$というグラスマン多様体でした。この$k$ に関して帰納的極限をとって$G_n(\\infty)$を考えます。ただしここでは記号を変えて、$BU(n)$と書きます。まあ、これは単に記号だから、そういう書き方と思ってもいいのですが、K-theory-1.pdf に書かれてるように、”$X$ 上の$n$次元複素ベクトル束の同型類の作る集合$Vect_n(X)$は同伴主$U(n)$束を考え、そのSteenrod による分類定理を用いることでホモトピー集合$[X,BU(n)]$$BU(n)$ を具体的に与えたわけです。さらにK-theory-2.pdfにあるように $BU=colim_{n \\to \\infty} BU(n)$ つまり余極限(帰納的極限）を考えます。ここで重要なのは$X$の複素$K$群 $\\widetilde{K}(X) \\simeq [X,BU]$と Bott の周期性定理です。"
      ]
    },
    {
      "cell_type": "markdown",
      "metadata": {
        "id": "j5BboAGIWMq8"
      },
      "source": [
        "- $\\widetilde{K}^{-q}(X)=[S^q\\wedge X,\\ BU]_*$ で定義すると（$[\\ ,\\ ]_*$　は基点を保つホモトピー類の集合)、簡約$K$コホモロジーが定義される。ここで。survey.pdf のp.2  の同型$K^n(X) \\longrightarrow K^{n-2}(X)$ がBottの周期性定理から従う。survey.pdf もコホモロジー$A$ はこの$K$を一般化したいために定義されている。実際、これから形式群を考え、そこから具体例として、Elliptic cohomology(楕円コホモロジー)を考えていく。\n"
      ]
    }
  ]
}