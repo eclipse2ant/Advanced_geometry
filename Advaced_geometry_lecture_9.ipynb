{
  "nbformat": 4,
  "nbformat_minor": 0,
  "metadata": {
    "colab": {
      "name": "Advaced_geometry-lecture_9.ipynb",
      "provenance": [],
      "include_colab_link": true
    },
    "kernelspec": {
      "name": "python3",
      "display_name": "Python 3"
    },
    "language_info": {
      "name": "python"
    }
  },
  "cells": [
    {
      "cell_type": "markdown",
      "metadata": {
        "id": "view-in-github",
        "colab_type": "text"
      },
      "source": [
        "<a href=\"https://colab.research.google.com/github/eclipse2ant/advanced_geometry/blob/master/Advaced_geometry_lecture_9.ipynb\" target=\"_parent\"><img src=\"https://colab.research.google.com/assets/colab-badge.svg\" alt=\"Open In Colab\"/></a>"
      ]
    },
    {
      "cell_type": "markdown",
      "metadata": {
        "id": "mUnenpOA1z1v"
      },
      "source": [
        "### 2.1.4 複素$K$理論"
      ]
    },
    {
      "cell_type": "markdown",
      "metadata": {
        "id": "xpkM1wSivWi4"
      },
      "source": [
        "- 今回は前前回直線束の話をまず一般の$n$次元に拡張します。$n$次元線形部分空間の集まりを考えるのですから。$k+n$次元の線形空間の中の$n$次元線形部分空間の集合は$G_n(k+n)$というグラスマン多様体でした。この$k$ に関して帰納的極限をとって$G_n(\\infty)$を考えます。ただしここでは記号を変えて、$BU(n)$と書きます。まあ、これは単に記号だから、そういう書き方と思ってもいいのですが、K-theory-1.pdf に書かれてるように、”$X$ 上の$n$次元複素ベクトル束の同型類の作る集合$Vect_n(X)$は同伴主$U(n)$束を考え、そのSteenrod による分類定理を用いることでホモトピー集合$[X,BU(n)]$$BU(n)$ を具体的に与えたわけです。さらにK-theory-2.pdfにあるように $BU(\\infty)=colim_{n \\to \\infty} BU(n)$ つまり余極限(帰納的極限）が$G_n(\\infty)$です。ここで重要なのは$X$の複素$K$群 $\\widetilde{K}(X)$と Bott の周期性定理です。"
      ]
    },
    {
      "cell_type": "markdown",
      "metadata": {
        "id": "j5BboAGIWMq8"
      },
      "source": [
        "- "
      ]
    },
    {
      "cell_type": "markdown",
      "metadata": {
        "id": "WNu2qq534bNc"
      },
      "source": [
        "- さて分数は　足すのではなく積です。ここで思い出してほしいのは指数関数です。$a^{n+m}=a^n \\cdot a^m$ 指数法則ですが、つまり指数関数は足し算を掛け算に変える翻訳機です。また $log$ は積を和に変える翻訳機です。積の世界で複式簿記をやってみましょう、今度は同じ数を足すのではなく、かけたときに等しいのですね。これは何を隠そう通分です！！\n"
      ]
    },
    {
      "cell_type": "markdown",
      "metadata": {
        "id": "UU6GmTX16FwR"
      },
      "source": [
        "- 注意すべきは$0$の扱い $(0,n) \\sim (0,1)$ また　$0$ で通分しませんよね。そんなことしたら、全て等しくなってしまいます。なぜ$0$で割らないのか？　このあたりは幾何的には１次元の射影空間になってますね。"
      ]
    },
    {
      "cell_type": "markdown",
      "metadata": {
        "id": "w9Q2-CCM73EP"
      },
      "source": [
        "- また　Youtube 動画[劣等感は脳の学びになんの関係もないどころか、むしろチャンスである！](https://youtu.be/TwJruocr6IY)　の中に出てくる分数の間違った足し算。これは、複式簿記の足し算のままやってるわけですが、これは、分数は同じ数をかけたものは等しいとは、表現方法の自由度がある、ゲージ変換の自由度がある、あるいはファイバーがあるとみれるわけで、その表示の仕方によらず、足し算がちゃんとできているかが問題ですね。$1/2+1/3= 2/5=8/20$ になります。一方 $1/3=6/18$ だから　$1/2+6/18=7/20$ だから　$8/20=7/20$ っておかしいですよね。だから足し算するときにゲージを固定してあげないといけない。これが分母を同じにして計算するってことですよね。\n",
        "\n",
        "　"
      ]
    },
    {
      "cell_type": "markdown",
      "metadata": {
        "id": "vAtUGzuID4CX"
      },
      "source": [
        "- このように２つペアにして逆演算を構成するやり方はかなり普遍的に使えます。代表例は導来圏（Derived Category) です。あるいはこれから学ぶK群もそうです。"
      ]
    }
  ]
}