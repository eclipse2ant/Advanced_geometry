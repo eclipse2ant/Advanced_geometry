{
  "nbformat": 4,
  "nbformat_minor": 0,
  "metadata": {
    "colab": {
      "name": "Advaced_geometry-lecture_12.ipynb ",
      "provenance": [],
      "include_colab_link": true
    },
    "kernelspec": {
      "name": "python3",
      "display_name": "Python 3"
    },
    "language_info": {
      "name": "python"
    }
  },
  "cells": [
    {
      "cell_type": "markdown",
      "metadata": {
        "id": "view-in-github",
        "colab_type": "text"
      },
      "source": [
        "<a href=\"https://colab.research.google.com/github/eclipse2ant/advanced_geometry/blob/master/Advaced_geometry_lecture_12.ipynb\" target=\"_parent\"><img src=\"https://colab.research.google.com/assets/colab-badge.svg\" alt=\"Open In Colab\"/></a>"
      ]
    },
    {
      "cell_type": "markdown",
      "metadata": {
        "id": "mUnenpOA1z1v"
      },
      "source": [
        "### 2.1.7.$R$-valued points"
      ]
    },
    {
      "cell_type": "markdown",
      "metadata": {
        "id": "xpkM1wSivWi4"
      },
      "source": [
        "- さて、$E_\\infty$環を使って、楕円コホモロジーを構成するためには、もう少し基本的なことを話さないといけません。じつはそのあと、Drived Algebraic Geoometry という難しい話もしないといけないのですが。。。とりあえずわかりやすい方から。"
      ]
    },
    {
      "cell_type": "markdown",
      "metadata": {
        "id": "Wb4A2XrdIR7T"
      },
      "source": [
        "- 方程式を解くというと因数分解するか解の公式、もっと違う話だと代数拡大云々といった話は、よく耳にすると思います。ここではもう一つ別の解釈。例えば、$f(X)=0$ という$\\mathbb{Z}$係数の多項式 $f$ についての方程式があったとします。$\\mathbb{Z[X]}/(f)$ から $\\mathbb{C}$ への準同型写像を与えることは"
      ]
    },
    {
      "cell_type": "markdown",
      "metadata": {
        "id": "-Rz1ahHCLobf"
      },
      "source": [
        "- さてさて　形式群ですが。Stable_Homotopy_and_Generalized_Cohomology.pdf (以下 SG と略す）のp.34を見てください。(1.1) が形式群の式ですが　この $\\{a_{i,j}\\}_{i,j  \\in \\mathbb{N}}$ 変数とみて、満たすべき関係式があるわけです。SGのp.56 にありますが、これらの関係式で作られる環$L$ をLazard\"s universal ring といいます。 ここでsurvey.pdf のp.5の$MP$が出て来ます。ここでQuillenn のTheorem とは,\n",
        "SG での p.75 のTheorem 8.2 Lは$\\pi_{*}(MU )$ に同型、これはsurvey.pdf では$MP(*)$ です。だから$Hom(MP(*),R)$ を与えることが、$R$係数の形式群を与え、そこからコホモロジーを与えたい。\n"
      ]
    },
    {
      "cell_type": "markdown",
      "metadata": {
        "id": "5OS6YyhdVdp_"
      },
      "source": [
        "- では$MU$ とか $MU$ って何でしょう？　これは複素コボルディズムのスペクトラムです。今回は、ここでコボルディズムについてって何でしょう？　これは複素コボルディズムのスペクトラムです。ここでコボルディズムについて少し資料を揚げておきましょう。"
      ]
    }
  ]
}