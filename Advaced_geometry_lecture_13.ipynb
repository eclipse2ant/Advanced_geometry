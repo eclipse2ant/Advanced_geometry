{
  "nbformat": 4,
  "nbformat_minor": 0,
  "metadata": {
    "colab": {
      "name": "Advaced_geometry-lecture_13.ipynb ",
      "provenance": [],
      "include_colab_link": true
    },
    "kernelspec": {
      "name": "python3",
      "display_name": "Python 3"
    },
    "language_info": {
      "name": "python"
    }
  },
  "cells": [
    {
      "cell_type": "markdown",
      "metadata": {
        "id": "view-in-github",
        "colab_type": "text"
      },
      "source": [
        "<a href=\"https://colab.research.google.com/github/eclipse2ant/advanced_geometry/blob/master/Advaced_geometry_lecture_13.ipynb\" target=\"_parent\"><img src=\"https://colab.research.google.com/assets/colab-badge.svg\" alt=\"Open In Colab\"/></a>"
      ]
    },
    {
      "cell_type": "markdown",
      "metadata": {
        "id": "mUnenpOA1z1v"
      },
      "source": [
        "### 2.1.7.$E_\\infty$Ring, Derived Algebraic Geometry "
      ]
    },
    {
      "cell_type": "markdown",
      "metadata": {
        "id": "xpkM1wSivWi4"
      },
      "source": [
        "- さて、前回の話の$MU$ のところを楕円曲線全体の成す空間に置き換えて話をしているのが、survey.pdf のp.10 のTheorem 1.1 なんですが、Goerss, Hopkins and Miller って名前が出てくると、tmf つまり　Toplological Mudular Form の話なので、めっちゃ難しい定理です。$\\mathcal{M}_{1,1}$ というのは楕円曲線を全部集めた空間ですが、moduli stack になっています。moduli stack というのは説明は大変なので、調べてもらうとして(ちなみに1,1 と言うのは　marked point が一つとリーマン面の種数　種数１が楕円曲線 )、ここで重要なのは、$\\mathcal{O}_{\\mathcal{M}^{Der}}$　という構造層です。$\\mathcal{M}^{Der}$ というのが、Deligne-Mumford stack の Derived version で、これはこの構造層のglobal section が$E_{\\infty}$ ring spectrum になることに関係しています。"
      ]
    },
    {
      "cell_type": "markdown",
      "metadata": {
        "id": "OkPjVWuFPTY-"
      },
      "source": [
        "- 前々回 $L$ スペクトラムで　モナドの構造を入れてそこからスマッシュ積を定義して、　そこから結合法則や交換法則が成り立つようして、さらに$E_\\infty$ 環　を作る。これは可換性も満たしますが、この圏の射は位相空間の連続写像ではない。このへんが、わかりにくいけど、symmmetric monoidal category として抽象的には可換環になるけど、オペランドを屈指して構成して位相空間としての写像ではホモトピー同値、そのあたりの説明がsurvey.pdf の2.1 なんか悩ましい。$E_\\infty$ ring spectrum  と　$E_\\infty$ ring space とか議論が May の論文にあったりする。ここが　Derived ってこれからやたらつく、原因になる。$\\pi_0(A)$ が位相空間としての$E_\\infty$ ring の連結成分をとるので、当然可換環になる。この世界が今までの従来のDerived がつかない世界というわけです。　 "
      ]
    },
    {
      "cell_type": "markdown",
      "metadata": {
        "id": "kEUPZrlBXX72"
      },
      "source": [
        "- $\\pi_0(A)$ は直線で繋がるものは一点で潰してしまうので、かなり情報が失われます。$A$は位相空間のホモトピーカテゴリーのアーベル群なのでそのホモトピー群で作られる $\\pi_{*}(A)=\\oplus_{n \\ge 0}\\ \\pi_n(A)$ はgraded ring (次数付き環)になる。$E_\\infty$ 環スペクトラムとして情報は $\\pi_*(A)$ に含まれてるため、これをどうやって扱うかが問題になる。そこで$Spec\\ A$ をどうやって定義するか。これがDerived Scheme の話になる。"
      ]
    },
    {
      "cell_type": "markdown",
      "metadata": {
        "id": "SJNYQSOBegaj"
      },
      "source": [
        "- $0$次が通常のもので、付加情報として$n=1,2 \\cdots$ という図式で、$\\infty$カテゴリー　$\\infty$トポス　を考える、トポスとは、まず位相空間をエタール位相のような、グロタンディック位相のような、カテゴリーに定義される位相を考え、この上での層の概念を定義する。この層のなす圏をトポスという。もともと層は前層としてカテゴリーから集合のカテゴリーへの反変関手圏でカテゴリー側に定義した位相（この言葉は正確ではない、多分サイトというべき）でいわゆる層になるための条件を課したものだけを考えるけど、実際は前層があったら層化できる。だからトポスはカテゴリーで、これらの層のカテゴリーと圏同値なもの、それの$\\infty$ 版としては　集合の圏を付加情報のついた　圏に置き換える。　しかし、これ以上は特性類の講義ではなくなっちゃうし、私の力量も及ばないので、やめときましょう。興味があれば、さらにsurvey.pdf を読み続けてください。良い勉強になると思います。"
      ]
    }
  ]
}