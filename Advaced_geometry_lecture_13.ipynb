{
  "nbformat": 4,
  "nbformat_minor": 0,
  "metadata": {
    "colab": {
      "name": "Advaced_geometry-lecture_13.ipynb ",
      "provenance": [],
      "include_colab_link": true
    },
    "kernelspec": {
      "name": "python3",
      "display_name": "Python 3"
    },
    "language_info": {
      "name": "python"
    }
  },
  "cells": [
    {
      "cell_type": "markdown",
      "metadata": {
        "id": "view-in-github",
        "colab_type": "text"
      },
      "source": [
        "<a href=\"https://colab.research.google.com/github/eclipse2ant/advanced_geometry/blob/master/Advaced_geometry_lecture_13.ipynb\" target=\"_parent\"><img src=\"https://colab.research.google.com/assets/colab-badge.svg\" alt=\"Open In Colab\"/></a>"
      ]
    },
    {
      "cell_type": "markdown",
      "metadata": {
        "id": "mUnenpOA1z1v"
      },
      "source": [
        "### 2.1.7.$E_\\infty$ring, Derived Algebraic Geometry "
      ]
    },
    {
      "cell_type": "markdown",
      "metadata": {
        "id": "xpkM1wSivWi4"
      },
      "source": [
        "- さて、前回の話の$MU$ のところを楕円曲線全体の成す空間に置き換えて話をしているのが、survey.pdf のp.10 のTheorem 1.1 なんですが、Goerss, Hopkins and Miller って名前が出てくると、tmf つまり　Toplological Mudular Form の話なので、めっちゃ難しい定理です。$\\mathcal{M}_{1,1}$ "
      ]
    },
    {
      "cell_type": "markdown",
      "metadata": {
        "id": "Wb4A2XrdIR7T"
      },
      "source": [
        "- 方程式を解くというと因数分解するか解の公式、もっと違う話だと代数拡大云々といった話は、よく耳にすると思います。ここではもう一つ別の解釈。例えば、$f(X)=0$ という$\\mathbb{Z}$係数の多項式 $f$ についての方程式があったとします。$\\mathbb{Z}[X]/(f)$ から $\\mathbb{C}$ への準同型写像を与えることは、$X$ に$f(X)=0$ の解を与えることと同じです。つまり $Hom_{\\mathbb{Z}}(Z[X]/(f), \\mathbb{C})$ と \n",
        "$f(X)=0$ の解に集合は一対一に対応します。変数を増やして $f(X,Y)=0$  でも$Hom_{\\mathbb{Z}}(Z[X,Y]/(f), \\mathbb{C})$ と（X,Y）の解が対応します。$\\mathbb{C}$のような体でなく、環$R$ でも同様です。これをアフィン・スキームにしておくには向きが反対になるだけ、可換環とアフィンスキームは圏同値だから、$Hom(Spec\\ R,\\ Spec\\  Z[X,Y]/(f)$)です。これが$R$-valued points です。"
      ]
    },
    {
      "cell_type": "markdown",
      "metadata": {
        "id": "-Rz1ahHCLobf"
      },
      "source": [
        "- さてさて　形式群ですが。Stable_Homotopy_and_Generalized_Cohomology.pdf (以下 SG と略す）のp.34を見てください。(1.1) が形式群の式ですが　\n",
        "この a_{i,j} $(i,j \\in \\mathbb{N})$を変数とみて、満たすべき関係式があるわけです。SGのp.56 にありますが、これらの関係式で作られる環$L$ をLazard\"s universal ring といいます。 ここでsurvey.pdf のp.5の$MP$が出て来ます。ここでQuillenn のTheorem とは,\n",
        "SG での p.75 のTheorem 8.2 Lは$\\pi_{*}(MU )$ に同型、これはsurvey.pdf では$MP(*)$ です。だから$Hom(MP(*),R)$ を与えることが、$R$係数の形式群を与え、そこからコホモロジーを与えたい。"
      ]
    },
    {
      "cell_type": "markdown",
      "metadata": {
        "id": "5OS6YyhdVdp_"
      },
      "source": [
        "- では$MU$ とか $MP$ って何でしょう？　これは複素コボルディズムのスペクトラムです。ここでコボルディズムについて少し資料を揚げておきましょう。参考資料のHomology, Cobordism, Higher-Category にアップしておきます。"
      ]
    }
  ]
}