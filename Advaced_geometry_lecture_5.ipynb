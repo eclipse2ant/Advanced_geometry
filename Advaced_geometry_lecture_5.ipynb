{
  "nbformat": 4,
  "nbformat_minor": 0,
  "metadata": {
    "colab": {
      "name": "Advaced_geometry-lecture_5.ipynb",
      "provenance": [],
      "toc_visible": true,
      "include_colab_link": true
    },
    "kernelspec": {
      "name": "python3",
      "display_name": "Python 3"
    },
    "language_info": {
      "name": "python"
    }
  },
  "cells": [
    {
      "cell_type": "markdown",
      "metadata": {
        "id": "view-in-github",
        "colab_type": "text"
      },
      "source": [
        "<a href=\"https://colab.research.google.com/github/eclipse2ant/advanced_geometry/blob/master/Advaced_geometry_lecture_5.ipynb\" target=\"_parent\"><img src=\"https://colab.research.google.com/assets/colab-badge.svg\" alt=\"Open In Colab\"/></a>"
      ]
    },
    {
      "cell_type": "markdown",
      "metadata": {
        "id": "40A55Lp70Yi3"
      },
      "source": [
        "# 2.コホモロジー"
      ]
    },
    {
      "cell_type": "markdown",
      "metadata": {
        "id": "mUnenpOA1z1v"
      },
      "source": [
        "## 2.1.コホモロジー理論"
      ]
    },
    {
      "cell_type": "markdown",
      "metadata": {
        "id": "WQEEp8XsvGLu"
      },
      "source": [
        "### 2.1.1.はじめに"
      ]
    },
    {
      "cell_type": "markdown",
      "metadata": {
        "id": "xpkM1wSivWi4"
      },
      "source": [
        "- 少し大きな枠組みでとらえたいと思います。そのため、まだ習ってない概念等がいろいろ出てくると思いますが、だいたいどんなものかをつかんで、全体の流れをつかむようにしてください。参考文献は　survey.pdf です。\n",
        "\n",
        "- まず、コホモロジー(Cohomology)ですが、1.1の(1)から(6) をみたすものです。ここでは、一般コホモロジー（Generalied cohomlogy) を含めてコホモロジーと言っています。\n",
        "\n",
        "- $\\pi_n$ というのはホモトピー群のことです。まずは、ご自分で　ホモトピー、ホモトピー群、$K$-theory ($K$-理論) ついて調べてみてください。\n",
        "\n",
        "- 次にコホモロジーの代表例である特異コホモロジーについて調べてください。\n"
      ]
    }
  ]
}