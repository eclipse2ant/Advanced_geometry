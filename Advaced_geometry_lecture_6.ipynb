{
  "nbformat": 4,
  "nbformat_minor": 0,
  "metadata": {
    "colab": {
      "name": "Advaced_geometry-lecture_6.ipynb",
      "provenance": [],
      "toc_visible": true,
      "include_colab_link": true
    },
    "kernelspec": {
      "name": "python3",
      "display_name": "Python 3"
    },
    "language_info": {
      "name": "python"
    }
  },
  "cells": [
    {
      "cell_type": "markdown",
      "metadata": {
        "id": "view-in-github",
        "colab_type": "text"
      },
      "source": [
        "<a href=\"https://colab.research.google.com/github/eclipse2ant/advanced_geometry/blob/master/Advaced_geometry_lecture_6.ipynb\" target=\"_parent\"><img src=\"https://colab.research.google.com/assets/colab-badge.svg\" alt=\"Open In Colab\"/></a>"
      ]
    },
    {
      "cell_type": "markdown",
      "metadata": {
        "id": "mUnenpOA1z1v"
      },
      "source": [
        "### 2.1.2.$A(\\mathbb{C}P^{\\infty}) $"
      ]
    },
    {
      "cell_type": "markdown",
      "metadata": {
        "id": "xpkM1wSivWi4"
      },
      "source": [
        "- survey.pdf の1.2 において　Atiyah-Hirzebruch spectral sequence について触れられています。ま、ここにハマるとぬけられなくなるのでスルーしましょう(^^;。スペクトル系列というのは、コホモロジーを計算するのにもっと簡単にわかるコホモロジーから一定の手続きで計算するためのマシーンのようなものです。しかも今の場合、周期的という性質がこのマシーンのアルゴリズムが単純化される云々と書かれてるわけで、今はその結果だけを必要としますので、スルーです。それでも興味のある方は、ググって見てください。\n",
        "\n"
      ]
    }
  ]
}