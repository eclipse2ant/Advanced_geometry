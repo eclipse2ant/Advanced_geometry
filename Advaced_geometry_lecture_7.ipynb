{
  "nbformat": 4,
  "nbformat_minor": 0,
  "metadata": {
    "colab": {
      "name": "Advaced_geometry-lecture_7.ipynb",
      "provenance": [],
      "include_colab_link": true
    },
    "kernelspec": {
      "name": "python3",
      "display_name": "Python 3"
    },
    "language_info": {
      "name": "python"
    }
  },
  "cells": [
    {
      "cell_type": "markdown",
      "metadata": {
        "id": "view-in-github",
        "colab_type": "text"
      },
      "source": [
        "<a href=\"https://colab.research.google.com/github/eclipse2ant/advanced_geometry/blob/master/Advaced_geometry_lecture_7.ipynb\" target=\"_parent\"><img src=\"https://colab.research.google.com/assets/colab-badge.svg\" alt=\"Open In Colab\"/></a>"
      ]
    },
    {
      "cell_type": "markdown",
      "metadata": {
        "id": "mUnenpOA1z1v"
      },
      "source": [
        "### 2.1.3.$\\mathbb{C}P^{\\infty} $"
      ]
    },
    {
      "cell_type": "markdown",
      "metadata": {
        "id": "xpkM1wSivWi4"
      },
      "source": [
        "- さて、$\\mathbb{C}P^\\infty$ とは何でしょうか？　まず、$\\mathbb{C}P^n$ から考えましょう。$n$次元複素射影空間ですが。これは$n$次元複素線形空間の$1$次元部分空間すなわち原点を通る直線全体の集合でした。こういう幾何的対象を集めてものを普通モジュライ空間といいます。ある線形空間の原点を通る直線の集合、つまり、背景の線型空間の次元を指定しないで、直線全体の集合を考えた場合が$\\mathbb{C}P^\\infty$です。\n",
        "- $X$が多様体のとき、$X$上のline bundle つまり直線束はどれだけあるでしょうか？　直線束は大雑把にいって、$X$の各点上に直線が乗っかってるこの直線は背景があって、その背景のなかで、原点を通る直線になってる。$X$上の点が連続的に動けば、直線も連続的に動く。直線が連続的に動くの意味は$\\mathbb{C}P^\\infty$の点として直線は表されますから、この空間の位相を使えば連続性が定義できます。\n",
        "- 実際 Xから$\\mathbb{C}P^\\infty$への連続写像を与えることは大体、直線束を与える感じですよね。これを具体的に言うには、$\\mathbb{C}P^\\infty$の標準束を考えます。つまり$\\mathbb{C}P^\\infty$の点は直線ですから、その直線を上に乗っけてバンドルを作ればいいわけです。ここで$\\mathbb{C}P^\\infty$は$\\mathbb{C}P^n$の帰納的極限ですから、$\\mathbb{C}P^n$ の標準束の帰納的極限で定義します。この標準束を先程の連続写像で$X$に引き戻せば$X$上の直線束は作れます。そして$X$ がパラコンパクトならば、$X$上の任意の直線束はこの構成で作れます。そして2つの構成した直線束が同型であるための必要十分は構成に使った連続がホモトープであること　つまり　$Line(X)\\cong[X,\\mathbb{C}P^\\infty]$\n",
        "- 今回はここで止めておきましょう。次回はこれをベクトル束に拡張します。いわゆる複素$K$理論です。それと直線束場合、テンソル積はまた直線束です。これを使って$A(\\mathbb{C}P^\\infty)$すなわち$ A(*)[[t]]$に積の構造を入れます。\n"
      ]
    },
    {
      "cell_type": "markdown",
      "metadata": {
        "id": "My5mk3FznK96"
      },
      "source": [
        "- i位相空間 $X$ が無限次元複素射影空間 $\\mathbb{C}P^\\infty$ の時、$A(\\mathbb{C}P^{\\infty}) $ = $A(*)[[t]]$  つまり　$A(\\mathbb{C}P^{\\infty}) $は、一点* の　コホモロジーを係数環とするような形式冪級数の環に同型になります。"
      ]
    },
    {
      "cell_type": "markdown",
      "metadata": {
        "id": "_Aj5JR8SoxU6"
      },
      "source": [
        "- $A$ が普通のコホモロジーでは、$H^*(\\mathbb{C}P^{\\infty},\\mathbb{Z}) = \\mathbb{Z}[t]$ この場合は、整数多項式環になり、この一般化になっています。ここで $t \\in H^2(\\mathbb{C}P^\\infty,\\mathbb{Z})$ は **the first Chern class** of universal line bundle  $\\mathcal{O}(1)$ on $\\mathbb{C}P^\\infty$。　ここでやっと本講義の主役　**特性類**である　チャーン類のご登場です。"
      ]
    }
  ]
}