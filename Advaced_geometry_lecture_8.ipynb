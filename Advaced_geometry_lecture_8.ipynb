{
  "nbformat": 4,
  "nbformat_minor": 0,
  "metadata": {
    "colab": {
      "name": "Advaced_geometry-lecture_8.ipynb",
      "provenance": [],
      "include_colab_link": true
    },
    "kernelspec": {
      "name": "python3",
      "display_name": "Python 3"
    },
    "language_info": {
      "name": "python"
    }
  },
  "cells": [
    {
      "cell_type": "markdown",
      "metadata": {
        "id": "view-in-github",
        "colab_type": "text"
      },
      "source": [
        "<a href=\"https://colab.research.google.com/github/eclipse2ant/advanced_geometry/blob/master/Advaced_geometry_lecture_8.ipynb\" target=\"_parent\"><img src=\"https://colab.research.google.com/assets/colab-badge.svg\" alt=\"Open In Colab\"/></a>"
      ]
    },
    {
      "cell_type": "markdown",
      "metadata": {
        "id": "mUnenpOA1z1v"
      },
      "source": [
        "### コラム　分数について"
      ]
    },
    {
      "cell_type": "markdown",
      "metadata": {
        "id": "xpkM1wSivWi4"
      },
      "source": [
        "- 今回は前回の課題について考えてみましょう。そもそも分数の表記はどうして、生まれたのか？　ここで私なりの解釈を考えてみましょう。でも実は講義の話とも繋がってきます。さて、私の答えは、**<font color=\"red\">複式簿記</font>**です。\n",
        "[複式簿記のサイエンス〔増補改訂版〕: -簿記とは何であり,何でありうるか 　石川純治著](https://www.amazon.co.jp/E8-A4-87-E5-BC-8F-E7-B0-BF-E8-A8-98-E3-81-AE-E3-82-B5-E3-82-A4-E3-82-A8-E3-83-B3-E3-82-B9-E3-80-94/dp/4419063122/ref=dp_ob_image_bk)が面白いのですが、もろもとこの内容は放送大学の著者の講義　「社会の中の会計」で知りました。細かいことは別にして、複式簿記は左右に数字を書きます。普通は間に線が引いてあります。いわゆる借方と貸方です。ここでは、線を引くのは大変なので$(n,m)$ で表しましょう。ここで　さて　正の数と０があるとします。つまり自然数ですね。負の数どうやって作りますか？　まあよくあるイメージは数直線ですね。$-1$ 倍は　数直線の原点で反対側に移すってやつです。まあ、私も中学生の頃はこれでやってたような。実はもう一つあります。\n",
        "自然数 $n$に対して　$(n,m)$ と２つの自然数を書いてあげます。複式簿記ですね。で同じ自然数を足したものは同じものとします。$(n+t,m+t)\\sim(n,m)$ ちゃんと言えば同値類ですが、堅苦しいので、ここで単に等しいと思ってしまいましょう。そうすると　$(n,0)$ に対して　$(0,n)$ は　いわゆる$-n$ ですね。　だって　$(n,0)+(0,n) = (n,n) \\sim (0,0)$ ですから。\n",
        "\n",
        "\n"
      ]
    },
    {
      "cell_type": "markdown",
      "metadata": {
        "id": "j5BboAGIWMq8"
      },
      "source": [
        "- つまり、$n$を足すという操作があったら、その逆の操作は　その操作のペアを作って、反対側に移してあげればよい。もちろんそのためには、何も変えない操作が定義されてないといけません。\n"
      ]
    }
  ]
}