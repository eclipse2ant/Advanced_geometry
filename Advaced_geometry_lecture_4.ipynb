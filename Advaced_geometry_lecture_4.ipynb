{
  "nbformat": 4,
  "nbformat_minor": 0,
  "metadata": {
    "colab": {
      "name": "Advaced_geometry-lecture_4.ipynb",
      "provenance": [],
      "toc_visible": true,
      "include_colab_link": true
    },
    "kernelspec": {
      "name": "python3",
      "display_name": "Python 3"
    },
    "language_info": {
      "name": "python"
    }
  },
  "cells": [
    {
      "cell_type": "markdown",
      "metadata": {
        "id": "view-in-github",
        "colab_type": "text"
      },
      "source": [
        "<a href=\"https://colab.research.google.com/github/eclipse2ant/advanced_geometry/blob/master/Advaced_geometry_lecture_4.ipynb\" target=\"_parent\"><img src=\"https://colab.research.google.com/assets/colab-badge.svg\" alt=\"Open In Colab\"/></a>"
      ]
    },
    {
      "cell_type": "markdown",
      "metadata": {
        "id": "WQEEp8XsvGLu"
      },
      "source": [
        "### 1.3.2.数論幾何入門 II"
      ]
    },
    {
      "cell_type": "markdown",
      "metadata": {
        "id": "xpkM1wSivWi4"
      },
      "source": [
        "- 前回の復習をすると、$\\mathbb{Z}$ と $\\mathbb{C}[X]$ の類似点ですが、どちらもユークリッド整域、従って単項イデアル整域、素元分解整域です。$\\mathbb{C}[X]$ おいて素元は何でしょうか？　これは一次式ですね。$X-a,\\  (a \\in \\mathbb{C})$ です。　従って、複素平面上の点と$１$次式を対応させると　$\\mathbb{C}[X]$の素イデアル全体の集合を複素平面と考えることができます。厳密には $0$ ゼロイデアルだけ余分に付きます。（実はこれだけ極大イデアルでない）\n",
        "- このことで $\\mathbb{Z}$ の素イデアルつまり、ゼロイデアルか素数で生成されるイデアルがちょうど $\\mathbb{Z}$ を載せている”平面”として定義されます。それぞれ $Spec \\mathbb{C}[X],\\ Spec \\mathbb{Z}$ です。\n"
      ]
    },
    {
      "cell_type": "markdown",
      "metadata": {
        "id": "suwmi0cdVhhh"
      },
      "source": [
        "### 1.3.3.アフィンスキームの定義"
      ]
    },
    {
      "cell_type": "markdown",
      "metadata": {
        "id": "_NviobqY-7Lw"
      },
      "source": [
        "- Sheaf.pdf に層についてとアフィン・スキームの定義について書きました。また構造層$\\Theta_X$ についてはここでは触れません。これについては代数幾何学の本でご自分で調べてください。\n",
        "- Affime-scheme_1.pdf 〜 Affine-scheme_6.pdf に具体例として、今まで述べた、可換環 $A$ が　$\\mathbb{Z}$ と $\\mathbb{C}[X]$ のときの例が述べられてます。またこれらの位相（ザリスキー位相）がハウスドルフ空間ではない（実際、$T_1$-空間ですらない）ことが述べられてます。"
      ]
    }
  ]
}