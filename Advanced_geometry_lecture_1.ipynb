{
  "nbformat": 4,
  "nbformat_minor": 0,
  "metadata": {
    "kernelspec": {
      "display_name": "Python 3",
      "language": "python",
      "name": "python3"
    },
    "language_info": {
      "codemirror_mode": {
        "name": "ipython",
        "version": 3
      },
      "file_extension": ".py",
      "mimetype": "text/x-python",
      "name": "python",
      "nbconvert_exporter": "python",
      "pygments_lexer": "ipython3",
      "version": "3.7.6"
    },
    "colab": {
      "name": "Advanced_geometry-lecture_1.ipynb",
      "provenance": [],
      "collapsed_sections": [
        "mqS6S7l8wOfD",
        "ez7XgwU7wOfH",
        "dO6vMT_fwOfK"
      ],
      "toc_visible": true,
      "include_colab_link": true
    }
  },
  "cells": [
    {
      "cell_type": "markdown",
      "metadata": {
        "id": "view-in-github",
        "colab_type": "text"
      },
      "source": [
        "<a href=\"https://colab.research.google.com/github/eclipse2ant/advanced_geometry/blob/master/Advanced_geometry_lecture_1.ipynb\" target=\"_parent\"><img src=\"https://colab.research.google.com/assets/colab-badge.svg\" alt=\"Open In Colab\"/></a>"
      ]
    },
    {
      "cell_type": "markdown",
      "metadata": {
        "id": "C3IBjmJmwOe-"
      },
      "source": [
        "# 0.はじめに"
      ]
    },
    {
      "cell_type": "markdown",
      "metadata": {
        "id": "Ktqu1tgHwwJb"
      },
      "source": [
        "これから、幾何学特論についてオンライン授業で行います。オンライン授業で授業するのは、まだ慣れてないので、何分不手際もあるると思いますがよろしくお願いします。　"
      ]
    },
    {
      "cell_type": "markdown",
      "metadata": {
        "id": "mqS6S7l8wOfD"
      },
      "source": [
        "## 0.1.授業の進め方\n"
      ]
    },
    {
      "cell_type": "markdown",
      "metadata": {
        "id": "q35YWSNLyxq0"
      },
      "source": [
        "授業はオンライン反転授業という形で行いたいと思います。従来の反転授業は、用意されたビデオなどをあらかじめ学習して課題を解いたり、議論したりというやり方ですが、ここではビデオは用意しません、私が用意しなくても、ネット上にいろいろなビデオアや情報は転がっています。それらを検索して、必要な情報を見つけてください。こちらからは、調べてほしい内容を指示します。それらについて自分でネットまたは本などで調べてもらい、レポートを提出してもらいます。それと小テスト、これがGoogle Form で選択肢から選んでもらう小テストを提出してもらいます。"
      ]
    },
    {
      "cell_type": "markdown",
      "metadata": {
        "id": "EU0Wq0gGwOfF"
      },
      "source": [
        "## 0.2.学んでほしいこと"
      ]
    },
    {
      "cell_type": "markdown",
      "metadata": {
        "id": "ez7XgwU7wOfH"
      },
      "source": [
        "### 1.Google Classroom."
      ]
    },
    {
      "cell_type": "markdown",
      "metadata": {
        "id": "GgfF1ulIwOfI"
      },
      "source": [
        "- この大学の他の授業でもそうですが、Google Classroomを用いて行っています。これからあなたたちが、社会に出て行って、学校や会社に勤めたりしても。自分自身でオンラインで授業したり、研修会を実施したり、参加したりすることが予想されます。コロナによって、世界中がオンラインでの実施の可能性に目覚めて、アフターコロナ後も普及すると考えられます。その意味で、Google Classroom に慣れておくことは重要です。"
      ]
    },
    {
      "cell_type": "markdown",
      "metadata": {
        "id": "lDFaw77lwOfJ"
      },
      "source": [
        "- 自分でクラスを作ってみる. ---- Google Classroom に早くなれるコツはご自分でClassroom を作ってみることです。これにはまず自分のGmailのアカウントが必要になります。これはすでにタブレットやスマホの関係ですでに持ってる人もいれば、いない人もいると思いますが、Gmailアカウントは簡単に作れます。ここで注意してほしいのは、大学で行われてるGoogle　ClassroomのアカウントはGoogle Workspace という大学で一括管理されているアカウントなので、このアカウントでもClassroom を作るかとは可能かもしれませんが、これは一括管理されているので、これとは別の個人のGoogle　アカウントで行ってください。"
      ]
    },
    {
      "cell_type": "markdown",
      "metadata": {
        "id": "dO6vMT_fwOfK"
      },
      "source": [
        "### 2.検索する技術."
      ]
    },
    {
      "cell_type": "markdown",
      "metadata": {
        "id": "yAKMT2DTwOfL"
      },
      "source": [
        "- インターネット上で自分の知りたい内容をさがす技術を身に着けてください。「Webで知る」--Web情報検索入門--　 k角谷和俊著　サイエンス社　など、Webの検索エンジンの仕組みを簡単に説明した本とかも出ています。いろいろ検索のノウハウを学ぶことは、これからのデジタル社会で非常に役立ちます。またスクレーピングといった技術やプログラミングで自動化する術も身に着けるとこれから非常に役立つと思います。授業の中でPythonのことについても触れていきたいと思っています。実際にはPython単体をインストールするよりもAnacondaをインストールしたほうが何かと便利です。"
      ]
    },
    {
      "cell_type": "markdown",
      "metadata": {
        "id": "JIVLB90z0CXW"
      },
      "source": [
        "### 3.データ分析、データ処理の自動化、Cloud環境、Python, GAS"
      ]
    },
    {
      "cell_type": "markdown",
      "metadata": {
        "id": "Mm9WS1cp0aHG"
      },
      "source": [
        "- 近年、Excel等のの処理の自動化、すなわちRPA（Robotonic Process Automation)が騒がれてます。特にPythonのライブラリーであるPandasやopenpyxl を使ったExcelの処理の自動化やSeleniumやBeatifusoup4を使ったWeb操作の自動化やスクレイピングがいろんなところで解説されてます。それらの操作を身につけることやCloud環境に慣れることでGoogle ClassrommやGoogle Colaboratoryを使えるようになることは、オンライン教育を行っていく上で貴重な武器になると思います。ぜひともこの時期にこれらのツールに強くなってください。"
      ]
    },
    {
      "cell_type": "markdown",
      "metadata": {
        "id": "AQOmIr3YwOfM"
      },
      "source": [
        "### 4.ホモトピー論的視点からの幾何学\n",
        "\n"
      ]
    },
    {
      "cell_type": "markdown",
      "metadata": {
        "id": "morjyiWhwOfN"
      },
      "source": [
        "- この講義では、特性類、特にChern類を中心として、ホモトピー論的な視点から幾何学を扱って行く予定です。すでに幾何学Bにおいて、大学で学ぶ幾何学はそれまで高校までで、学んできた幾何学とは別物であることを学びました。ここでは、それを更に発展させて、ホモトピー論的視点から幾何学を捉えていきます。"
      ]
    },
    {
      "cell_type": "markdown",
      "metadata": {
        "id": "7LKnwZKGwOfN"
      },
      "source": [
        "- 代数幾何学　数論幾何学　トポロジー　ゲージ理論　超弦理論　代数的K理論　ホモトピー理論　等々多くの話題を幾何学は提供してくれます。幾何学Bでは、多様体論やゲージ理論の手前、およびその背景に現れてくる物理学について学びました。基本的な概念としては、接続、ファイバーバンドルないしはベクターバンドル、モジュライ、層、コホモロジー、スキーム、スタック　等々いろんな概念を全てではないですが、学んできました。これらを復習しながら、ホモトピー論を軸にして先へ進めていこうと考えてます。"
      ]
    },
    {
      "cell_type": "markdown",
      "metadata": {
        "id": "bw71HO8iwOfP"
      },
      "source": [
        "# 1.多様体の定義と例（復習）\n"
      ]
    },
    {
      "cell_type": "markdown",
      "metadata": {
        "id": "dk_OBUA3wOfQ"
      },
      "source": [
        "- 多様体論は線形代数、微積分、位相空間論がすべて使われました。これら３つの分野の理解がさらに深まったと思います。また　df や　dx といった記号に意味がつきました。いわゆる微分形式です。数学の幅が一気に広がったと思います。\n",
        "ここでは、具体的な多様体の例を考えてみましょう。"
      ]
    },
    {
      "cell_type": "markdown",
      "metadata": {
        "id": "6lvb92ck7hZu"
      },
      "source": [
        "\n",
        "\n",
        "1.   $n$次元の実射影空間と複素射影空間を定義してください。\n",
        "2.   1の $n$次元線形空間の$1$次元線形部分空間全体を考えたものです。これを一般化して$k$次元線形部分空間全体を考えたものをグラスマン多様体といいます。 \n",
        "\n"
      ]
    }
  ]
}